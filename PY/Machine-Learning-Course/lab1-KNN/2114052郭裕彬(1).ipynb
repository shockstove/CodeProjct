{
 "cells": [
  {
   "cell_type": "markdown",
   "metadata": {
    "collapsed": false
   },
   "source": [
    "# 机器学习实验报告-lab1-KNN\n",
    "**姓名：** 郭裕彬\n",
    "**学号：** 2114052\n",
    "**专业：** 物联网工程\n",
    "# 实验要求\n",
    " **题目：** 基于KNN 的手写数字识别 实验条件：给定semeion手写数字数据集，给定kNN分类算法\n",
    " 1. 基本要求：编程实现kNN算法,要求使用留一法,求得在给出不同k值（1,3,5）情况下,kNN算法对⼿写数字的识别精度.\n",
    " 2. 中级要求：与机器学习包中的kNN分类结果进行对比\n",
    " 3. 提高要求：采用旋转等手段对原始数据进行处理，扩增数据量，采用CNN或其他深度学习方法实现手写体识别"
   ]
  },
  {
   "cell_type": "markdown",
   "metadata": {
    "collapsed": false
   },
   "source": [
    "### 导入使用的包"
   ]
  },
  {
   "cell_type": "code",
   "execution_count": 1,
   "metadata": {
    "collapsed": false
   },
   "outputs": [],
   "source": [
    "import numpy as np\n",
    "from sklearn.model_selection import LeaveOneOut, train_test_split\n",
    "from collections import Counter\n",
    "from sklearn.neighbors import KNeighborsClassifier\n",
    "import tensorflow as tf\n",
    "from sklearn.preprocessing import StandardScaler\n",
    "from keras import layers, models\n",
    "import cv2"
   ]
  },
  {
   "cell_type": "markdown",
   "metadata": {
    "collapsed": false
   },
   "source": [
    "### 导入并处理数据集"
   ]
  },
  {
   "cell_type": "code",
   "execution_count": 2,
   "metadata": {
    "collapsed": false
   },
   "outputs": [
    {
     "data": {
      "text/plain": [
       "((1593, 256), (1593, 1))"
      ]
     },
     "execution_count": 2,
     "metadata": {},
     "output_type": "execute_result"
    }
   ],
   "source": [
    "#导入数据\n",
    "def ImgtoMat(filename):\n",
    "    f = open( filename )\n",
    "    ss = f.readlines()\n",
    "    l = len(ss)\n",
    "    f.close()\n",
    "    returnMat = np.zeros((l,256))\n",
    "    returnClassVector = np.zeros((l,1))\n",
    "    for i in range(l):\n",
    "        s1 = ss[i].split()\n",
    "        for j in range(256):\n",
    "            returnMat[i][j] = np.float64(s1[j])\n",
    "        clCount = 0\n",
    "        for j in range(256, 266):\n",
    "            if s1[j] == '1':\n",
    "                clCount = j-256\n",
    "                break\n",
    "        returnClassVector[i] = clCount\n",
    "    return returnMat, returnClassVector\n",
    "X,y = ImgtoMat('semeion.data')\n",
    "np.shape(X), np.shape(y)"
   ]
  },
  {
   "cell_type": "markdown",
   "metadata": {
    "collapsed": false
   },
   "source": [
    "### 基本要求\n",
    "编程实现kNN算法,要求使用留一法,求得在给出不同k值（1,3,5）情况下,kNN算法对手写数字的识别精度."
   ]
  },
  {
   "cell_type": "code",
   "execution_count": 3,
   "metadata": {
    "collapsed": false
   },
   "outputs": [],
   "source": [
    "#knn算法手动实现\n",
    "def knn(X, Y, neighbors):\n",
    "    #留一法分割\n",
    "    loo = LeaveOneOut()\n",
    "    testRes = []\n",
    "    corCount = 0\n",
    "    for trainIndex,testIndex in loo.split(X, Y):\n",
    "        xTrain, xTest, yTrain, yTest = X[trainIndex], X[testIndex], Y[trainIndex], Y[testIndex]\n",
    "        trainVol = xTrain.shape[0]\n",
    "        testVol = xTest.shape[0]\n",
    "        #差异矩阵\n",
    "        diffMat = np.tile(xTest[0], (trainVol, 1)) - xTrain\n",
    "        #获得标准差距离并排序\n",
    "        sqDiffMat = diffMat ** 2\n",
    "        sqDistance = sqDiffMat.sum(axis=1)\n",
    "        distance = sqDistance ** 0.5\n",
    "        sortDistance = np.argsort(distance)\n",
    "        labelCount = []\n",
    "        for j in range(neighbors):  # 考察k近邻属于哪些类\n",
    "            labelCount.append(yTrain[sortDistance[j]][0])\n",
    "        classifyRes = Counter(labelCount)  # 把k近邻中最多的那个标签作为分类结果\n",
    "        classifyRes = classifyRes.most_common(2)[0][0]\n",
    "        testRes.append(classifyRes)\n",
    "        if yTest[0] == classifyRes:#分类正确\n",
    "            corCount += 1\n",
    "    corRate = corCount / 1593\n",
    "    print('k={0}时，测试个数为1593  正确个数为：{1}  准确率为：{2}'.format(neighbors,corCount,corRate))\n",
    "    return corRate"
   ]
  },
  {
   "cell_type": "markdown",
   "metadata": {
    "collapsed": false
   },
   "source": [
    "测试结果"
   ]
  },
  {
   "cell_type": "code",
   "execution_count": 4,
   "metadata": {
    "collapsed": false
   },
   "outputs": [
    {
     "name": "stdout",
     "output_type": "stream",
     "text": [
      "k=1时，测试个数为1593  正确个数为：1459  准确率为：0.9158819836785939\n",
      "k=3时，测试个数为1593  正确个数为：1464  准确率为：0.9190207156308852\n",
      "k=5时，测试个数为1593  正确个数为：1458  准确率为：0.9152542372881356\n"
     ]
    }
   ],
   "source": [
    "for i in [1,3,5]:\n",
    "    knn(X, y, i)"
   ]
  },
  {
   "cell_type": "markdown",
   "metadata": {
    "collapsed": false
   },
   "source": [
    "### 中级要求\n",
    "与机器学习包中的kNN分类结果进行对比"
   ]
  },
  {
   "cell_type": "code",
   "execution_count": 5,
   "metadata": {
    "collapsed": false
   },
   "outputs": [],
   "source": [
    "def sklearnKnn(X, Y, neighbors):\n",
    "    loo = LeaveOneOut()\n",
    "    testRes = []\n",
    "    corCount = 0\n",
    "    for trainIndex, testIndex in loo.split(X, Y):\n",
    "        xTrain, xTest, yTrain, yTest = X[trainIndex], X[testIndex], Y[trainIndex], Y[testIndex]\n",
    "        neigh = KNeighborsClassifier(n_neighbors=neighbors)\n",
    "        neigh.fit(xTrain, yTrain.ravel())\n",
    "        predict_y = neigh.predict(xTest)\n",
    "        if yTest[0] == predict_y:\n",
    "                corCount += 1\n",
    "    corRate = corCount / Y.shape[0]\n",
    "    print('k={0}时，测试个数为1593  正确个数为：{1}  准确率为：{2}'.format(neighbors, corCount, corRate))\n",
    "    return corRate"
   ]
  },
  {
   "cell_type": "markdown",
   "metadata": {
    "collapsed": false
   },
   "source": [
    "测试结果"
   ]
  },
  {
   "cell_type": "code",
   "execution_count": 6,
   "metadata": {
    "collapsed": false
   },
   "outputs": [
    {
     "name": "stdout",
     "output_type": "stream",
     "text": [
      "k=1时，测试个数为1593  正确个数为：1461  准确率为：0.9171374764595104\n",
      "k=3时，测试个数为1593  正确个数为：1439  准确率为：0.9033270558694287\n",
      "k=5时，测试个数为1593  正确个数为：1440  准确率为：0.903954802259887\n"
     ]
    }
   ],
   "source": [
    "for i in [1,3,5]:\n",
    "    sklearnKnn(X, y, i)"
   ]
  },
  {
   "cell_type": "markdown",
   "metadata": {
    "collapsed": false
   },
   "source": [
    "### 提高要求\n",
    "采用旋转等手段对原始数据进行处理，扩增数据量，采用CNN或其他深度学习方法实现手写体识别"
   ]
  },
  {
   "cell_type": "code",
   "execution_count": 67,
   "metadata": {
    "collapsed": false
   },
   "outputs": [],
   "source": [
    "model = models.Sequential([\n",
    "    layers.Reshape((16, 16, 1), input_shape=(256,)),\n",
    "    layers.Conv2D(36, (5, 5), activation='relu'),\n",
    "    layers.MaxPooling2D((2, 2)),\n",
    "    layers.Conv2D(36, (5, 5), activation='relu'),\n",
    "    layers.Flatten(),\n",
    "    layers.Dropout(0.3),\n",
    "    layers.Dense(128, activation='relu'),\n",
    "    layers.Dropout(0.3),\n",
    "    layers.Dense(10, activation='softmax')\n",
    "])\n",
    "\n",
    "model.compile(optimizer='adam',\n",
    "              loss='sparse_categorical_crossentropy',\n",
    "              metrics=['accuracy'])\n",
    "#旋转扩增训练集\n",
    "def rotate_image(image, angle):\n",
    "    center = tuple(np.array(image.shape[1::-1]) / 2)\n",
    "    rot_mat = cv2.getRotationMatrix2D(center, angle, 1.0)\n",
    "    result = cv2.warpAffine(image, rot_mat, image.shape[1::-1], flags=cv2.INTER_LINEAR)\n",
    "    return result\n",
    "#cnn方法\n",
    "def cnn(X, y):\n",
    "    X_train, X_test, y_train, y_test = train_test_split(X, y, test_size=0.2, random_state=42)\n",
    "    augmented_X_train = []\n",
    "    augmented_y_train = []\n",
    "    for i in range(len(X_train)):\n",
    "        image = X_train[i].reshape(16, 16)  # 将扁平的图像数据重塑为16x16\n",
    "        for angle in [-15, 0, 15]:  # 旋转角度范围\n",
    "            rotated_image = rotate_image(image, angle)\n",
    "            augmented_X_train.append(rotated_image.flatten())  # 重塑为扁平的数据\n",
    "            augmented_y_train.append(y_train[i])\n",
    "    X_train = np.vstack([X_train, np.array(augmented_X_train)])\n",
    "    y_train = np.concatenate([y_train, np.array(augmented_y_train)])\n",
    "    #标准化\n",
    "    scaler = StandardScaler()\n",
    "    X_train = scaler.fit_transform(X_train)\n",
    "    X_test = scaler.transform(X_test)\n",
    "    model.fit(X_train, y_train, epochs=20, validation_data=(X_test, y_test))\n",
    "    test_loss, test_acc = model.evaluate(X_test, y_test)\n",
    "    print('cnn准确率为{0}'.format(test_acc))"
   ]
  },
  {
   "cell_type": "markdown",
   "metadata": {
    "collapsed": false
   },
   "source": [
    "调整参数获得较好的测试结果"
   ]
  },
  {
   "cell_type": "code",
   "execution_count": 68,
   "metadata": {
    "collapsed": false
   },
   "outputs": [
    {
     "name": "stdout",
     "output_type": "stream",
     "text": [
      "Epoch 1/20\n",
      "160/160 [==============================] - 1s 4ms/step - loss: 1.1831 - accuracy: 0.6015 - val_loss: 0.2529 - val_accuracy: 0.9373\n",
      "Epoch 2/20\n",
      "160/160 [==============================] - 1s 4ms/step - loss: 0.4493 - accuracy: 0.8577 - val_loss: 0.1544 - val_accuracy: 0.9592\n",
      "Epoch 3/20\n",
      "160/160 [==============================] - 1s 4ms/step - loss: 0.3053 - accuracy: 0.9036 - val_loss: 0.1105 - val_accuracy: 0.9592\n",
      "Epoch 4/20\n",
      "160/160 [==============================] - 1s 4ms/step - loss: 0.2313 - accuracy: 0.9219 - val_loss: 0.0821 - val_accuracy: 0.9687\n",
      "Epoch 5/20\n",
      "160/160 [==============================] - 1s 4ms/step - loss: 0.1899 - accuracy: 0.9398 - val_loss: 0.0727 - val_accuracy: 0.9655\n",
      "Epoch 6/20\n",
      "160/160 [==============================] - 1s 4ms/step - loss: 0.1694 - accuracy: 0.9443 - val_loss: 0.0697 - val_accuracy: 0.9749\n",
      "Epoch 7/20\n",
      "160/160 [==============================] - 1s 4ms/step - loss: 0.1311 - accuracy: 0.9564 - val_loss: 0.0613 - val_accuracy: 0.9875\n",
      "Epoch 8/20\n",
      "160/160 [==============================] - 1s 4ms/step - loss: 0.1222 - accuracy: 0.9568 - val_loss: 0.0845 - val_accuracy: 0.9655\n",
      "Epoch 9/20\n",
      "160/160 [==============================] - 1s 4ms/step - loss: 0.1162 - accuracy: 0.9582 - val_loss: 0.0622 - val_accuracy: 0.9749\n",
      "Epoch 10/20\n",
      "160/160 [==============================] - 1s 4ms/step - loss: 0.1122 - accuracy: 0.9627 - val_loss: 0.0784 - val_accuracy: 0.9749\n",
      "Epoch 11/20\n",
      "160/160 [==============================] - 1s 4ms/step - loss: 0.0818 - accuracy: 0.9700 - val_loss: 0.0616 - val_accuracy: 0.9781\n",
      "Epoch 12/20\n",
      "160/160 [==============================] - 1s 4ms/step - loss: 0.0681 - accuracy: 0.9766 - val_loss: 0.0374 - val_accuracy: 0.9812\n",
      "Epoch 13/20\n",
      "160/160 [==============================] - 1s 4ms/step - loss: 0.0791 - accuracy: 0.9745 - val_loss: 0.0312 - val_accuracy: 0.9843\n",
      "Epoch 14/20\n",
      "160/160 [==============================] - 1s 4ms/step - loss: 0.0688 - accuracy: 0.9755 - val_loss: 0.0349 - val_accuracy: 0.9812\n",
      "Epoch 15/20\n",
      "160/160 [==============================] - 1s 4ms/step - loss: 0.0779 - accuracy: 0.9731 - val_loss: 0.0230 - val_accuracy: 0.9937\n",
      "Epoch 16/20\n",
      "160/160 [==============================] - 1s 4ms/step - loss: 0.0665 - accuracy: 0.9788 - val_loss: 0.0327 - val_accuracy: 0.9906\n",
      "Epoch 17/20\n",
      "160/160 [==============================] - 1s 4ms/step - loss: 0.0636 - accuracy: 0.9774 - val_loss: 0.0489 - val_accuracy: 0.9781\n",
      "Epoch 18/20\n",
      "160/160 [==============================] - 1s 4ms/step - loss: 0.0522 - accuracy: 0.9831 - val_loss: 0.0368 - val_accuracy: 0.9843\n",
      "Epoch 19/20\n",
      "160/160 [==============================] - 1s 4ms/step - loss: 0.0548 - accuracy: 0.9802 - val_loss: 0.0483 - val_accuracy: 0.9781\n",
      "Epoch 20/20\n",
      "160/160 [==============================] - 1s 4ms/step - loss: 0.0567 - accuracy: 0.9796 - val_loss: 0.0238 - val_accuracy: 0.9906\n",
      "10/10 [==============================] - 0s 2ms/step - loss: 0.0238 - accuracy: 0.9906\n",
      "cnn准确率为0.9905956387519836\n"
     ]
    }
   ],
   "source": [
    "cnn (X, y)"
   ]
  },
  {
   "cell_type": "code",
   "execution_count": null,
   "metadata": {
    "collapsed": false,
    "pycharm": {
     "is_executing": true
    }
   },
   "outputs": [],
   "source": []
  }
 ],
 "metadata": {
  "kernelspec": {
   "display_name": "Python 3",
   "language": "python",
   "name": "python3"
  },
  "language_info": {
   "codemirror_mode": {
    "name": "ipython",
    "version": 2
   },
   "file_extension": ".py",
   "mimetype": "text/x-python",
   "name": "python",
   "nbconvert_exporter": "python",
   "pygments_lexer": "ipython2",
   "version": "2.7.6"
  }
 },
 "nbformat": 4,
 "nbformat_minor": 0
}
