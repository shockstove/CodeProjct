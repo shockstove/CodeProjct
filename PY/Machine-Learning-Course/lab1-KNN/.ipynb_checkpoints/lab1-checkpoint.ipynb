{
 "cells": [
  {
   "cell_type": "markdown",
   "source": [
    "# 机器学习实验报告-lab1-KNN\n",
    "**姓名：** 郭裕彬\n",
    "**学号：** 2114052\n",
    "**专业：** 物联网工程\n",
    "# 实验要求\n",
    " **题目：** 基于KNN 的手写数字识别 实验条件：给定semeion手写数字数据集，给定kNN分类算法\n",
    " 1. 基本要求：编程实现kNN算法；给出在不同k值（1，3，5）情况下，kNN算法对手写数字的识别精度（要求采用留一法）\n",
    " 2. 中级要求：与weka机器学习包中的kNN分类结果进行对比\n",
    " 3. 提高要求：将实验过程结果等图示展出"
   ],
   "metadata": {
    "collapsed": false
   }
  },
  {
   "cell_type": "markdown",
   "source": [
    "### 导入使用的包"
   ],
   "metadata": {
    "collapsed": false
   }
  },
  {
   "cell_type": "code",
   "execution_count": null,
   "outputs": [],
   "source": [
    "import numpy as np\n",
    "from sklearn.model_selection import LeaveOneOut, train_test_split\n",
    "from collections import Counter\n",
    "from sklearn.neighbors import KNeighborsClassifier\n",
    "import tensorflow as tf\n",
    "from sklearn.preprocessing import StandardScaler\n",
    "from keras import layers, models"
   ],
   "metadata": {
    "collapsed": false
   }
  },
  {
   "cell_type": "markdown",
   "source": [
    "### 导入并处理数据集"
   ],
   "metadata": {
    "collapsed": false
   }
  },
  {
   "cell_type": "code",
   "execution_count": null,
   "outputs": [],
   "source": [
    "def ImgtoMat(filename):\n",
    "    f = open( filename )\n",
    "    ss = f.readlines()\n",
    "    l = len(ss)\n",
    "    f.close()\n",
    "    returnMat = np.zeros((l,256))\n",
    "    returnClassVector = np.zeros((l,1))\n",
    "    for i in range(l):\n",
    "        s1 = ss[i].split()\n",
    "        for j in range(256):\n",
    "            returnMat[i][j] = np.float64(s1[j])\n",
    "        clCount = 0\n",
    "        for j in range(256, 266):\n",
    "            if s1[j] == '1':\n",
    "                clCount = j-256\n",
    "                break\n",
    "        returnClassVector[i] = clCount\n",
    "    return returnMat, returnClassVector\n",
    "X,y = ImgtoMat('semeion.data')\n",
    "np.shape(X), np.shape(y)"
   ],
   "metadata": {
    "collapsed": false
   }
  },
  {
   "cell_type": "code",
   "execution_count": null,
   "outputs": [],
   "source": [],
   "metadata": {
    "collapsed": false
   }
  }
 ],
 "metadata": {
  "kernelspec": {
   "display_name": "Python 3",
   "language": "python",
   "name": "python3"
  },
  "language_info": {
   "codemirror_mode": {
    "name": "ipython",
    "version": 2
   },
   "file_extension": ".py",
   "mimetype": "text/x-python",
   "name": "python",
   "nbconvert_exporter": "python",
   "pygments_lexer": "ipython2",
   "version": "2.7.6"
  }
 },
 "nbformat": 4,
 "nbformat_minor": 0
}
