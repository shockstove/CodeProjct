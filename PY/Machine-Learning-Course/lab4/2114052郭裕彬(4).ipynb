{
 "cells": [
  {
   "cell_type": "markdown",
   "source": [
    "# 机器学习实验报告-lab4-朴素贝叶斯\n",
    "**姓名：** 郭裕彬\n",
    "**学号：** 2114052\n",
    "**专业：** 物联网工程\n",
    "## 实验要求\n",
    "### 基本要求\n",
    "1. 采用分层采样的方式将数据集划分为训练集和测试集。\n",
    "2. 给定编写一个朴素贝叶斯分类器，对测试集进行预测，计算分类准确率。\n",
    "### 中级要求\n",
    "使用测试集评估模型，得到混淆矩阵，精度，召回率，F值。\n",
    "### 高级要求\n",
    "在中级要求的基础上画出三类数据的ROC曲线，并求出AUC值。\n",
    "### 扩展要求\n",
    "浅谈ROC曲线和AUC值作为分类评价的合理性。"
   ],
   "metadata": {
    "collapsed": false
   }
  },
  {
   "cell_type": "code",
   "execution_count": 44,
   "outputs": [],
   "source": [
    "import math\n",
    "import numpy as np\n",
    "import matplotlib.pyplot as plt"
   ],
   "metadata": {
    "collapsed": false
   }
  },
  {
   "cell_type": "code",
   "execution_count": 45,
   "outputs": [],
   "source": [
    "label = [[], [], []]#记录不同标签下的数据\n",
    "train_data = [[], [], []]#分层后的训练数据\n",
    "test_data = [[], [], []]#分层后的抽样数据\n",
    "num_iterations = 10#折数\n",
    "error_count = 0\n",
    "means = [[], [], []]#不同类的均值\n",
    "variances = [[], [], []]#不同类的方差\n",
    "confusion_matrix = np.zeros([3, 3])#混淆矩阵\n",
    "record = []#记录测试时的数据\n",
    "data_number = 0#数据总量\n",
    "\n",
    "#从文件中获取数据并分类\n",
    "data = list(np.loadtxt('wine.data', delimiter=','))\n",
    "data = np.array(data)\n",
    "for i in data:\n",
    "    if i[0] == 1:\n",
    "        label[0].append(i[1:14])\n",
    "    elif i[0] == 2:\n",
    "        label[1].append(i[1:14])\n",
    "    else:\n",
    "        label[2].append(i[1:14])\n",
    "    data_number += 1\n",
    "data_length = [round(len(label[i]) / num_iterations) for i in range(3)]#交叉验证时的取样比例"
   ],
   "metadata": {
    "collapsed": false
   }
  },
  {
   "cell_type": "markdown",
   "source": [
    "## 基本要求"
   ],
   "metadata": {
    "collapsed": false
   }
  },
  {
   "cell_type": "code",
   "execution_count": 46,
   "outputs": [],
   "source": [
    "#朴素贝叶斯实现\n",
    "def naive_bayes():\n",
    "    error_num = 0\n",
    "    for i in range(3):\n",
    "        means[i] = np.mean(train_data[i], axis=0)#计算每个类的均值\n",
    "        variances[i] = np.var(train_data[i], axis=0)#计算每个类的方差\n",
    "    for i in range(3):#依次对不同类的测试数据进行概率计算\n",
    "        for j in test_data[i]:\n",
    "            posterior = []\n",
    "            for k in range(3):\n",
    "                likelihood = np.power((j - means[k]), 2) / (2 * variances[k])\n",
    "                probability = np.log(np.sqrt(2 * np.pi * variances[k])) + likelihood\n",
    "                probability = np.sum(probability)\n",
    "                posterior.append(-probability + math.log(len(label[k]) / data_number))\n",
    "            #分类错误时error_num+1\n",
    "            if np.argmax(posterior) != i:\n",
    "                error_num += 1\n",
    "            #记录混淆矩阵中的数据\n",
    "            confusion_matrix[i][np.argmax(posterior)] += 1\n",
    "            posterior.append(i)\n",
    "            #记录测试数据\n",
    "            record.append(posterior)\n",
    "    return error_num"
   ],
   "metadata": {
    "collapsed": false
   }
  },
  {
   "cell_type": "code",
   "execution_count": 47,
   "outputs": [
    {
     "name": "stdout",
     "output_type": "stream",
     "text": [
      "分类准确率为：0.9775280898876404\n"
     ]
    }
   ],
   "source": [
    "#分层抽样进行测试\n",
    "for i in range(num_iterations):\n",
    "    train_data = [np.mat(label[j][:i * data_length[j]] + label[j][(i + 1) * data_length[j]:])\n",
    "                  if (i + 1) * data_length[j] <= len(label[j])\n",
    "                  else np.mat(label[j][:i * data_length[j]])\n",
    "                  for j in range(3)]\n",
    "\n",
    "    test_data = [np.mat(label[j][i * data_length[j]:(i + 1) * data_length[j]])\n",
    "                 if (i + 1) * data_length[j] <= len(label[j])\n",
    "                 else np.mat(label[j][i * data_length[j]:])\n",
    "                 for j in range(3)]\n",
    "    error_count += naive_bayes()\n",
    "print(f\"分类准确率为：{1 - error_count / data_number}\")"
   ],
   "metadata": {
    "collapsed": false
   }
  },
  {
   "cell_type": "markdown",
   "source": [
    "## 中级要求"
   ],
   "metadata": {
    "collapsed": false
   }
  },
  {
   "cell_type": "code",
   "execution_count": 48,
   "outputs": [
    {
     "name": "stdout",
     "output_type": "stream",
     "text": [
      "1、2、3类酒的精确率是 [1.0, 0.9714, 0.96]\n",
      "1、2、3类酒的召回率是 [0.9661, 0.9714, 1.0]\n",
      "1、2、3类酒的F值是 [0.9828, 0.9714, 0.9796]\n"
     ]
    }
   ],
   "source": [
    "precision = []\n",
    "recall = []\n",
    "F_measure = []\n",
    "#根据多分类混淆矩阵相关理论计算各类的精确率、召回率和F值\n",
    "for i in range(3):\n",
    "    precision.append(round(confusion_matrix[i][i] / (confusion_matrix[0][i] + confusion_matrix[1][i] + confusion_matrix[2][i]),4))\n",
    "    recall.append(round(confusion_matrix[i][i] / (confusion_matrix[i][0] + confusion_matrix[i][1] + confusion_matrix[i][2]),4))\n",
    "    F_measure.append(round(2 * precision[i] * recall[i] / (precision[i] + recall[i]),4))\n",
    "\n",
    "print(\"1、2、3类酒的精确率是\",precision)\n",
    "print(\"1、2、3类酒的召回率是\",recall)\n",
    "print(\"1、2、3类酒的F值是\",F_measure)"
   ],
   "metadata": {
    "collapsed": false
   }
  },
  {
   "cell_type": "markdown",
   "source": [
    "## 高级要求"
   ],
   "metadata": {
    "collapsed": false
   }
  },
  {
   "cell_type": "code",
   "execution_count": 49,
   "outputs": [],
   "source": [
    "#画出ROC曲线，计算AUC\n",
    "def cal_roc():\n",
    "    for i in range(3):\n",
    "        fp_rate = []\n",
    "        tp_rate = []\n",
    "        auc = 0.0\n",
    "        sort_data = sorted(record, key = lambda x:x[i])#按照第i类概率排序\n",
    "        pos_record = [j for j in sort_data if j[3] == i]#正样本\n",
    "        neg_record = [j for j in sort_data if j[3] != i]#负样本\n",
    "        pos_number = len(pos_record)\n",
    "        neg_number = len(neg_record)\n",
    "        for j in sort_data:\n",
    "            fp_count = 0\n",
    "            tp_count = 0\n",
    "            middle = j[i]\n",
    "            #以j的值作为阈值判断正负\n",
    "            for k in pos_record:\n",
    "                if k[i] >= middle:\n",
    "                    tp_count += 1\n",
    "            for k in neg_record:\n",
    "                if k[i]>= middle:\n",
    "                    fp_count += 1\n",
    "            fp_rate.append(fp_count / neg_number)\n",
    "            tp_rate.append(tp_count / pos_number)\n",
    "        fp_rate.append(0)\n",
    "        tp_rate.append(0)\n",
    "        #计算AUC\n",
    "        for j in pos_record:\n",
    "            for k in neg_record:\n",
    "                if j[i]>k[i]:\n",
    "                    auc += 1\n",
    "                elif j[i] == k[i]:\n",
    "                    auc += 0.5\n",
    "        auc /= (pos_number * neg_number)\n",
    "        AUC.append(auc)\n",
    "        fpr.append(fp_rate)\n",
    "        tpr.append(tp_rate)\n",
    "        print(\"1、2、3类酒的AUC是\",round(auc,4))"
   ],
   "metadata": {
    "collapsed": false
   }
  },
  {
   "cell_type": "code",
   "execution_count": 50,
   "outputs": [
    {
     "name": "stdout",
     "output_type": "stream",
     "text": [
      "1、2、3类酒的AUC是 0.9948\n",
      "1、2、3类酒的AUC是 0.9338\n",
      "1、2、3类酒的AUC是 0.9926\n"
     ]
    },
    {
     "data": {
      "text/plain": "<Figure size 640x480 with 1 Axes>",
      "image/png": "[encoded data removed]"
     },
     "metadata": {},
     "output_type": "display_data"
    }
   ],
   "source": [
    "fpr = []\n",
    "tpr = []\n",
    "AUC = []\n",
    "cal_roc()\n",
    "\n",
    "for i in range(3):\n",
    "    plt.plot(fpr[i], tpr[i],label='ROC curve of class {0}'.format (i))\n",
    "plt.xlim([0.0, 1.0])\n",
    "plt.ylim([0.0, 1.05])\n",
    "plt.xlabel('False Positive Rate')\n",
    "plt.ylabel('True Positive Rate')\n",
    "plt.title('ROC')\n",
    "plt.legend(loc=\"lower right\")\n",
    "plt.show()"
   ],
   "metadata": {
    "collapsed": false
   }
  },
  {
   "cell_type": "markdown",
   "source": [
    "## 扩展要求\n",
    "ROC曲线能够展示在不同阈值下模型的真正例率和假正例率，从而全面反映了分类器的性能。这种全面性评估对于不同应用场景中的权衡取舍至关重要。ROC曲线和AUC值的计算基于真正例率和假正例率，不受类别不平衡的干扰，因此对于不同样本分布的问题更具鲁棒性。当测试集中的正负样本的分布变化的时候，ROC曲线能够保持不变。在实际的数据集中经常会出现类不平衡（class imbalance）现象，即负样本比正样本多很多（或者相反），而且测试数据中的正负样本的分布也可能随着时间变化，因此ROC曲线比二级指标精确率-召回率曲线更准确。\n",
    "很多时候ROC曲线并不能清晰的说明哪个分类器的效果更好，而使用AUC值这样一个数值作为评价标准，对应AUC更大的分类器效果更好。但一些研究指出，AUC的杂讯太多，并且很常求不出可信又有效的AUC值，使得AUC在模型比较时产生的问题比解释的问题更多，因此使用AUC作为ROC曲线的数据化表示需要根据实际情况进行分析。"
   ],
   "metadata": {
    "collapsed": false
   }
  },
  {
   "cell_type": "code",
   "execution_count": 50,
   "outputs": [],
   "source": [],
   "metadata": {
    "collapsed": false
   }
  }
 ],
 "metadata": {
  "kernelspec": {
   "display_name": "Python 3",
   "language": "python",
   "name": "python3"
  },
  "language_info": {
   "codemirror_mode": {
    "name": "ipython",
    "version": 2
   },
   "file_extension": ".py",
   "mimetype": "text/x-python",
   "name": "python",
   "nbconvert_exporter": "python",
   "pygments_lexer": "ipython2",
   "version": "2.7.6"
  }
 },
 "nbformat": 4,
 "nbformat_minor": 0
}
