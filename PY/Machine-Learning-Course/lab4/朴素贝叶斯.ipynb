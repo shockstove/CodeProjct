{
 "cells": [
  {
   "cell_type": "markdown",
   "metadata": {},
   "source": [
    "# 实验四  朴素贝叶斯\n",
    "- 姓名：\n",
    "- 学号：\n",
    "- 专业："
   ]
  },
  {
   "cell_type": "markdown",
   "metadata": {},
   "source": [
    "## 亮点\n",
    "1. 为了增加验证准确率及稳定性采取十折交叉验证\n",
    "2. 对于中级要求（计算混淆矩阵及模型评估）和高级要求（ROC曲线和AUC值计算）均采用不调用Sklearn和调用Sklearn对比验证，成功验证不调用Sklearn库代码的正确性"
   ]
  },
  {
   "cell_type": "markdown",
   "metadata": {},
   "source": [
    "### 导入需要的包"
   ]
  },
  {
   "cell_type": "code",
   "execution_count": 1,
   "metadata": {},
   "outputs": [],
   "source": [
    "import math\n",
    "import numpy as np\n",
    "import matplotlib.pyplot as plt"
   ]
  },
  {
   "cell_type": "markdown",
   "metadata": {},
   "source": [
    "## 一. 基本要求\n",
    "a) 采用分层采样的方式将数据集划分为训练集和测试集。 b) 给定编写一个朴素贝叶斯分类器，对测试集进行预测，计算分类准确率。"
   ]
  },
  {
   "cell_type": "markdown",
   "metadata": {},
   "source": [
    "### 1. 导入数据集 wine.data"
   ]
  },
  {
   "cell_type": "code",
   "execution_count": 2,
   "metadata": {},
   "outputs": [],
   "source": [
    "f = open('wine.data', 'r')\n",
    "types = [[], [], []]                      # 按类分的所有数据\n",
    "test_data = [[], [], []]\n",
    "train_data = [[], [], []]\n",
    "data_num = 0                            # 数据总数\n",
    "test_len = []                           # 测试集里每一类的个数\n",
    "means = [[], [], []]                      # 每一类的均值\n",
    "std = [[], [], []]                        # 每一类的标准差\n",
    "myline = '1'\n",
    "while myline:\n",
    "    myline = f.readline().split(',')\n",
    "    if len(myline) != 14:\n",
    "        break\n",
    "    for t in range(len(myline)):\n",
    "        if t == 0:\n",
    "            myline[t] = int(myline[t])\n",
    "        else:\n",
    "            myline[t] = float(myline[t])\n",
    "    temp = myline.pop(0)\n",
    "    types[temp - 1].append(myline)\n",
    "test_len = [round(len(types[i]) / 10) for i in range(3)]\n",
    "data_num = sum([len(types[i]) for i in range(3)])"
   ]
  },
  {
   "cell_type": "code",
   "execution_count": 3,
   "metadata": {},
   "outputs": [],
   "source": [
    "y_test=[]   # 保存测试集属性\n",
    "y_pred_test=[]   # 保存测试集真实类别\n",
    "y_pred_score=[]"
   ]
  },
  {
   "cell_type": "markdown",
   "metadata": {},
   "source": [
    "### 2. 构建朴素贝叶斯分类器"
   ]
  },
  {
   "cell_type": "code",
   "execution_count": 10,
   "metadata": {},
   "outputs": [],
   "source": [
    "def bayes_classificate(train_data, test_data):\n",
    "    for i in range(3):\n",
    "        means[i] = np.mean(train_data[i], axis=0)        # 分别计算三个类别的均值\n",
    "        std[i] = np.std(train_data[i], axis=0)           # 这里是标准差\n",
    "    wrong_num = 0\n",
    "    for i in range(3):\n",
    "        for t in test_data[i]:                  # 两层循环：从每一类取每一个测试样本\n",
    "            my_type = []\n",
    "            y_score=[]\n",
    "            for j in range(3):\n",
    "                # 由于数据集中所有的属性都是连续值，连续值的似然估计可以按照高斯分布来计算：\n",
    "                temp = np.log((2*math.pi) ** 0.5 * std[j])\n",
    "                temp += np.power(t - means[j], 2) / (2 * np.power(std[j], 2))\n",
    "                temp = np.sum(temp)\n",
    "                temp = -1*temp+math.log(len(types[j])/data_num)\n",
    "                my_type.append(temp)                        # 这里将所有score保存\n",
    "            pre_type = my_type.index(max(my_type))          # 取分值最大的为预测类别\n",
    "            my_type.append(i)\n",
    "            y_pred_score.append(my_type)\n",
    "            \n",
    "            y_pred_test.append(pre_type)\n",
    "            if pre_type != i:                               # 统计错误数\n",
    "                wrong_num += 1\n",
    "    return wrong_num"
   ]
  },
  {
   "cell_type": "markdown",
   "metadata": {},
   "source": [
    "### 3. 分层抽样+十折交叉验证"
   ]
  },
  {
   "cell_type": "code",
   "execution_count": 11,
   "metadata": {},
   "outputs": [
    {
     "name": "stdout",
     "output_type": "stream",
     "text": [
      "分类准确率: 0.9775280898876404\n",
      "真实标签为：\n",
      "[0, 0, 0, 0, 0, 0, 1, 1, 1, 1, 1, 1, 1, 2, 2, 2, 2, 2, 0, 0, 0, 0, 0, 0, 1, 1, 1, 1, 1, 1, 1, 2, 2, 2, 2, 2, 0, 0, 0, 0, 0, 0, 1, 1, 1, 1, 1, 1, 1, 2, 2, 2, 2, 2, 0, 0, 0, 0, 0, 0, 1, 1, 1, 1, 1, 1, 1, 2, 2, 2, 2, 2, 0, 0, 0, 0, 0, 0, 1, 1, 1, 1, 1, 1, 1, 2, 2, 2, 2, 2, 0, 0, 0, 0, 0, 0, 1, 1, 1, 1, 1, 1, 1, 2, 2, 2, 2, 2, 0, 0, 0, 0, 0, 0, 1, 1, 1, 1, 1, 1, 1, 2, 2, 2, 2, 2, 0, 0, 0, 0, 0, 0, 1, 1, 1, 1, 1, 1, 1, 2, 2, 2, 2, 2, 0, 0, 0, 0, 0, 0, 1, 1, 1, 1, 1, 1, 1, 2, 2, 2, 2, 2, 0, 0, 0, 0, 0, 1, 1, 1, 1, 1, 1, 1, 2, 2, 2, 0, 0, 0, 0, 0, 0, 1, 1, 1, 1, 1, 1, 1, 2, 2, 2, 2, 2, 0, 0, 0, 0, 0, 0, 1, 1, 1, 1, 1, 1, 1, 2, 2, 2, 2, 2, 0, 0, 0, 0, 0, 0, 1, 1, 1, 1, 1, 1, 1, 2, 2, 2, 2, 2, 0, 0, 0, 0, 0, 0, 1, 1, 1, 1, 1, 1, 1, 2, 2, 2, 2, 2, 0, 0, 0, 0, 0, 0, 1, 1, 1, 1, 1, 1, 1, 2, 2, 2, 2, 2, 0, 0, 0, 0, 0, 0, 1, 1, 1, 1, 1, 1, 1, 2, 2, 2, 2, 2, 0, 0, 0, 0, 0, 0, 1, 1, 1, 1, 1, 1, 1, 2, 2, 2, 2, 2, 0, 0, 0, 0, 0, 0, 1, 1, 1, 1, 1, 1, 1, 2, 2, 2, 2, 2, 0, 0, 0, 0, 0, 0, 1, 1, 1, 1, 1, 1, 1, 2, 2, 2, 2, 2, 0, 0, 0, 0, 0, 1, 1, 1, 1, 1, 1, 1, 2, 2, 2]\n",
      "预测类别为：\n",
      "[0, 0, 0, 0, 0, 0, 1, 1, 2, 1, 1, 1, 1, 2, 2, 2, 2, 2, 0, 0, 0, 0, 0, 0, 1, 1, 1, 1, 1, 1, 1, 2, 2, 2, 2, 2, 0, 0, 0, 0, 0, 0, 1, 1, 1, 1, 1, 1, 1, 2, 2, 2, 2, 2, 0, 0, 0, 0, 0, 0, 1, 1, 1, 2, 1, 1, 1, 2, 2, 2, 2, 2, 0, 1, 0, 0, 0, 0, 1, 1, 1, 1, 1, 1, 1, 2, 2, 2, 2, 2, 0, 0, 0, 0, 0, 0, 1, 1, 1, 1, 1, 1, 1, 2, 2, 2, 2, 2, 0, 0, 0, 0, 0, 0, 1, 1, 1, 1, 1, 1, 1, 2, 2, 2, 2, 2, 0, 1, 0, 0, 0, 0, 1, 1, 1, 1, 1, 1, 1, 2, 2, 2, 2, 2, 0, 0, 0, 0, 0, 0, 1, 1, 1, 1, 1, 1, 1, 2, 2, 2, 2, 2, 0, 0, 0, 0, 0, 1, 1, 1, 1, 1, 1, 1, 2, 2, 2, 0, 0, 0, 0, 0, 0, 1, 1, 2, 1, 1, 1, 1, 2, 2, 2, 2, 2, 0, 0, 0, 0, 0, 0, 1, 1, 1, 1, 1, 1, 1, 2, 2, 2, 2, 2, 0, 0, 0, 0, 0, 0, 1, 1, 1, 1, 1, 1, 1, 2, 2, 2, 2, 2, 0, 0, 0, 0, 0, 0, 1, 1, 1, 2, 1, 1, 1, 2, 2, 2, 2, 2, 0, 1, 0, 0, 0, 0, 1, 1, 1, 1, 1, 1, 1, 2, 2, 2, 2, 2, 0, 0, 0, 0, 0, 0, 1, 1, 1, 1, 1, 1, 1, 2, 2, 2, 2, 2, 0, 0, 0, 0, 0, 0, 1, 1, 1, 1, 1, 1, 1, 2, 2, 2, 2, 2, 0, 1, 0, 0, 0, 0, 1, 1, 1, 1, 1, 1, 1, 2, 2, 2, 2, 2, 0, 0, 0, 0, 0, 0, 1, 1, 1, 1, 1, 1, 1, 2, 2, 2, 2, 2, 0, 0, 0, 0, 0, 1, 1, 1, 1, 1, 1, 1, 2, 2, 2]\n"
     ]
    }
   ],
   "source": [
    "wrong_num = 0\n",
    "\n",
    "# 十折交叉，并且对每一类数据分层\n",
    "for i in range(10): \n",
    "    for j in range(3):\n",
    "        # 分层抽样\n",
    "        if (i+1)*test_len[j] > len(types[j]):\n",
    "            test_data[j] = np.mat(types[j][i*test_len[j]:])\n",
    "            for k in range(len(test_data[j])):\n",
    "                y_test.append(j)\n",
    "            train_data[j] = np.mat(types[j][:i*test_len[j]])\n",
    "        else:\n",
    "            test_data[j] = np.mat(types[j][i*test_len[j]:(i+1)*test_len[j]])\n",
    "            for k in range(len(test_data[j])):\n",
    "                y_test.append(j)\n",
    "            train_data[j] = np.mat(types[j][:i*test_len[j]]+types[j][(i+1)*test_len[j]:])\n",
    "            \n",
    "    # 数据带入朴素贝叶斯分类器\n",
    "    wrong_num += bayes_classificate(train_data, test_data)\n",
    "print(\"分类准确率: \"+str(1-wrong_num/data_num))\n",
    "\n",
    "print(\"真实标签为：\")\n",
    "print(y_test)\n",
    "print(\"预测类别为：\")\n",
    "print(y_pred_test)"
   ]
  },
  {
   "cell_type": "markdown",
   "metadata": {},
   "source": [
    "## 二. 中级要求(对于不调用/调用 Sklearn进行对比验证)\n",
    "使用测试集评估模型，得到混淆矩阵，精度，召回率，F值。"
   ]
  },
  {
   "cell_type": "markdown",
   "metadata": {},
   "source": [
    "## 不调用Sklearn库计算混淆矩阵及模型评估"
   ]
  },
  {
   "cell_type": "markdown",
   "metadata": {},
   "source": [
    "### 1. 计算混淆矩阵"
   ]
  },
  {
   "cell_type": "code",
   "execution_count": 6,
   "metadata": {},
   "outputs": [],
   "source": [
    "def cal_confusion(y_test,y_pred_test):\n",
    "    confusion = np.zeros((3,3))\n",
    "    for i in range(len(y_test)):\n",
    "        confusion[y_test[i]][y_pred_test[i]] += 1\n",
    "    confusion=np.array(confusion)\n",
    "    return confusion"
   ]
  },
  {
   "cell_type": "markdown",
   "metadata": {},
   "source": [
    "### 2. 根据混淆矩阵进行精度、召回率和F值的计算"
   ]
  },
  {
   "cell_type": "code",
   "execution_count": 7,
   "metadata": {},
   "outputs": [
    {
     "name": "stdout",
     "output_type": "stream",
     "text": [
      "混淆矩阵为：\n",
      " [[57.  2.  0.]\n",
      " [ 0. 68.  2.]\n",
      " [ 0.  0. 48.]]\n",
      "           precision     recall    f1-score    support\n",
      "1\t      1.0\t   0.97\t      0.98\t   59\t\n",
      "2\t      0.97\t   0.97\t      0.97\t   70\t\n",
      "3\t      0.96\t   1.0\t      0.98\t   48\t\n",
      "macro avg:    0.98\t   0.98\t      0.98\t   177\t\n"
     ]
    }
   ],
   "source": [
    "con_mat = cal_confusion(y_test, y_pred_test)\n",
    "print(\"混淆矩阵为：\\n\",con_mat)\n",
    "\n",
    "precision = []  #保存精度\n",
    "recall = []     #保存召回率\n",
    "F1_score = []  # 保存F值\n",
    "\n",
    "# 计算精度\n",
    "for i in range(3):\n",
    "    precision.append(round(con_mat[i][i]/np.sum(con_mat,axis=0)[i],2))\n",
    "# 计算召回率\n",
    "for i in range(3):\n",
    "    recall.append(round(con_mat[i][i]/np.sum(con_mat,axis=1)[i],2))\n",
    "# 计算F值\n",
    "for i in range(3):\n",
    "    F1_score.append(round(2*precision[i]*recall[i]/(precision[i]+recall[i]),2))\n",
    "# 计算support值\n",
    "support = np.sum(con_mat,axis=1)\n",
    "\n",
    "print(\"           precision     recall    f1-score    support\")\n",
    "for i in range(3):\n",
    "    print(\"{}\\t      {}\\t   {}\\t      {}\\t   {}\\t\".format(i+1,precision[i],recall[i],F1_score[i],int(support[i])))\n",
    "print(\"macro avg:    {}\\t   {}\\t      {}\\t   {}\\t\".format(round(np.sum(precision)/len(types),2),\n",
    "round(np.sum(recall)/len(types), 2), round(np.sum(F1_score)/len(types), 2), int(np.sum(con_mat))))"
   ]
  },
  {
   "cell_type": "markdown",
   "metadata": {},
   "source": [
    "## 对比验证：调用Sklearn库实现混淆矩阵计算及模型评估\n",
    "\n",
    "通过比对可看出不调用Sklearn和调用Sklearn库结果相同，证明了上面计算混淆矩阵及模型评估代码正确性"
   ]
  },
  {
   "cell_type": "code",
   "execution_count": 8,
   "metadata": {},
   "outputs": [],
   "source": [
    "# 导入Sklearn所需库\n",
    "from sklearn.metrics import accuracy_score\n",
    "from sklearn.metrics import classification_report, confusion_matrix"
   ]
  },
  {
   "cell_type": "code",
   "execution_count": 9,
   "metadata": {},
   "outputs": [
    {
     "name": "stdout",
     "output_type": "stream",
     "text": [
      "混淆矩阵为：\n"
     ]
    },
    {
     "ename": "NameError",
     "evalue": "name 'confusion_mcatrix' is not defined",
     "output_type": "error",
     "traceback": [
      "\u001B[1;31m---------------------------------------------------------------------------\u001B[0m",
      "\u001B[1;31mNameError\u001B[0m                                 Traceback (most recent call last)",
      "Cell \u001B[1;32mIn[9], line 3\u001B[0m\n\u001B[0;32m      1\u001B[0m \u001B[38;5;66;03m# 计算混淆矩阵\u001B[39;00m\n\u001B[0;32m      2\u001B[0m \u001B[38;5;28mprint\u001B[39m(\u001B[38;5;124m\"\u001B[39m\u001B[38;5;124m混淆矩阵为：\u001B[39m\u001B[38;5;124m\"\u001B[39m)\n\u001B[1;32m----> 3\u001B[0m \u001B[38;5;28mprint\u001B[39m(\u001B[43mconfusion_mcatrix\u001B[49m(y_test, y_pred_test))\n\u001B[0;32m      4\u001B[0m \u001B[38;5;28mprint\u001B[39m(classification_report(y_test, y_pred_test))\n",
      "\u001B[1;31mNameError\u001B[0m: name 'confusion_mcatrix' is not defined"
     ]
    }
   ],
   "source": [
    "# 计算混淆矩阵\n",
    "print(\"混淆矩阵为：\")\n",
    "print(confusion_mcatrix(y_test, y_pred_test))\n",
    "print(classification_report(y_test, y_pred_test))"
   ]
  },
  {
   "cell_type": "markdown",
   "metadata": {},
   "source": [
    "## 三. 高级要求(对于不调用/调用 Sklearn进行对比验证)\n",
    "在中级要求的基础上画出三类数据的ROC曲线，并求出AUC值。"
   ]
  },
  {
   "cell_type": "markdown",
   "metadata": {},
   "source": [
    "## 不调用Sklearn库进行绘制ROC曲线+计算AUC值"
   ]
  },
  {
   "cell_type": "markdown",
   "metadata": {},
   "source": [
    "### 1. 手写roc_curve()函数"
   ]
  },
  {
   "cell_type": "code",
   "execution_count": null,
   "metadata": {},
   "outputs": [],
   "source": [
    "def roc_curve(scores, label):\n",
    "    # 先算fpr和tpr\n",
    "    fpr = []\n",
    "    tpr = []\n",
    "    p_s = [i for i in scores if i[3] == label]\n",
    "    n_s = [i for i in scores if i[3] != label]\n",
    "    postive_num = len(p_s)\n",
    "    negative_num = len(n_s)\n",
    "    for i in scores:        \n",
    "        threshold = i[label]\n",
    "        fp_num = 0\n",
    "        tp_num = 0\n",
    "        for j in p_s:\n",
    "            if j[label] >= threshold:\n",
    "                tp_num += 1\n",
    "        for j in n_s:\n",
    "            if j[label] >= threshold:\n",
    "                fp_num += 1\n",
    "        fpr.append(fp_num / negative_num)\n",
    "        tpr.append(tp_num / postive_num)\n",
    "    fpr.append(0)\n",
    "    tpr.append(0)\n",
    "    # 再算auc\n",
    "    auc = 0.0\n",
    "    for i in p_s:\n",
    "        for j in n_s:\n",
    "            if i[label] > j[label]:\n",
    "                auc += 1\n",
    "            elif i[label] == j[label]:\n",
    "                auc += 0.5\n",
    "    auc /= (postive_num * negative_num)\n",
    "    return fpr, tpr, auc"
   ]
  },
  {
   "cell_type": "markdown",
   "metadata": {},
   "source": [
    "### 2. 计算每个类别的fpr、tpr和auc"
   ]
  },
  {
   "cell_type": "code",
   "execution_count": null,
   "metadata": {},
   "outputs": [],
   "source": [
    "# 计算每一类的ROC和AUC\n",
    "fpr = dict()\n",
    "tpr = dict()\n",
    "auc = dict()\n",
    "for i in range(len(types)):\n",
    "    score_sort = sorted(y_pred_score, key=lambda x: x[i])\n",
    "    fpr[i], tpr[i], auc[i] = roc_curve(score_sort, i)\n",
    "    print(\"第{}类红酒AUC值为{}\".format(i, auc[i]))"
   ]
  },
  {
   "cell_type": "markdown",
   "metadata": {},
   "source": [
    "### 3. 绘制ROC图像"
   ]
  },
  {
   "cell_type": "code",
   "execution_count": null,
   "metadata": {},
   "outputs": [],
   "source": [
    "plt.figure(figsize=(10,8),dpi=80)\n",
    "colors = ['r', 'y', 'b']\n",
    "for i, color in zip(range(len(types)), colors):\n",
    "    plt.plot(fpr[i], tpr[i], color=color,label='ROC curve of class {0} (area = {1:0.2f})'.format(i, auc[i]))\n",
    "plt.plot([0, 1], [0, 1], 'k--')\n",
    "plt.xlim([0.0, 1.0])\n",
    "plt.ylim([0.0, 1.05])\n",
    "plt.xlabel('False Positive Rate')\n",
    "plt.ylabel('True Positive Rate')\n",
    "plt.title('ROC')\n",
    "plt.legend(loc=\"lower right\")\n",
    "plt.show()"
   ]
  },
  {
   "cell_type": "markdown",
   "metadata": {},
   "source": [
    "## 对比验证：调用Sklearn库绘制ROC曲线"
   ]
  },
  {
   "cell_type": "markdown",
   "metadata": {},
   "source": [
    "### 2. 计算每个类别的fpr、tpr和auc"
   ]
  },
  {
   "cell_type": "code",
   "execution_count": null,
   "metadata": {},
   "outputs": [],
   "source": [
    "from sklearn.preprocessing import label_binarize\n",
    "from sklearn.metrics import roc_curve, auc\n",
    "y_test_binarize = label_binarize(y_test, classes=[0, 1, 2])\n",
    "y_pred_score_array=np.array(y_pred_score)\n",
    "\n",
    "# 计算每一类的ROC\n",
    "fpr_sklearn = dict()\n",
    "tpr_sklearn = dict()\n",
    "auc_sklearn = dict()\n",
    "for i in range(len(types)):\n",
    "    fpr_sklearn[i], tpr_sklearn[i], _ = roc_curve(y_test_binarize[:, i], y_pred_score_array[:, i])\n",
    "    auc_sklearn[i] = auc(fpr_sklearn[i], tpr_sklearn[i])\n",
    "    print(\"第{}类红酒AUC值为{}\".format(i, auc_sklearn[i]))"
   ]
  },
  {
   "cell_type": "markdown",
   "metadata": {},
   "source": [
    "### 3. 绘制ROC图像"
   ]
  },
  {
   "cell_type": "code",
   "execution_count": null,
   "metadata": {},
   "outputs": [],
   "source": [
    "plt.figure(figsize=(10,8),dpi=80)\n",
    "colors = ['r', 'y', 'b']\n",
    "for i, color in zip(range(len(types)), colors):\n",
    "    plt.plot(fpr_sklearn[i], tpr_sklearn[i], color=color,label='ROC curve of class {0} (area = {1:0.2f})'.format(i, auc_sklearn[i]))\n",
    "plt.plot([0, 1], [0, 1], 'k--')\n",
    "plt.xlim([0.0, 1.0])\n",
    "plt.ylim([0.0, 1.05])\n",
    "plt.xlabel('False Positive Rate')\n",
    "plt.ylabel('True Positive Rate')\n",
    "plt.title('ROC')\n",
    "plt.legend(loc=\"lower right\")\n",
    "plt.show()"
   ]
  },
  {
   "cell_type": "markdown",
   "metadata": {},
   "source": [
    "#### 通过比对可看出不调用Sklearn和调用Sklearn库ROC曲线及AUC值计算相同，证明了上面绘制ROC曲线和AUC值计算代码的正确性"
   ]
  }
 ],
 "metadata": {
  "kernelspec": {
   "display_name": "Python 3 (ipykernel)",
   "language": "python",
   "name": "python3"
  },
  "language_info": {
   "codemirror_mode": {
    "name": "ipython",
    "version": 3
   },
   "file_extension": ".py",
   "mimetype": "text/x-python",
   "name": "python",
   "nbconvert_exporter": "python",
   "pygments_lexer": "ipython3",
   "version": "3.9.12"
  }
 },
 "nbformat": 4,
 "nbformat_minor": 4
}
